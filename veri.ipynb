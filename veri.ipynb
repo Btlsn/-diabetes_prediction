{
 "cells": [
  {
   "cell_type": "code",
   "execution_count": 1,
   "metadata": {},
   "outputs": [],
   "source": [
    "import pandas as pd\n",
    "import random"
   ]
  },
  {
   "cell_type": "code",
   "execution_count": 2,
   "metadata": {},
   "outputs": [],
   "source": [
    "# Özellikleri oluşturma\n",
    "def generate_data_row_extended():\n",
    "    # Yaş: 18-80 arası, gerçekçi dağılım\n",
    "    age = random.randint(18, 80)\n",
    "    \n",
    "    # Cinsiyet\n",
    "    gender = random.choice([\"Female\", \"Male\"])\n",
    "    \n",
    "    # BMI: WHO sınıflandırmasına göre\n",
    "    # Zayıf: 15-18.5\n",
    "    # Normal: 18.5-24.9\n",
    "    # Kilolu: 25-29.9\n",
    "    # Obez: 30-40\n",
    "    # Morbid Obez: 40-50\n",
    "    bmi_ranges = [\n",
    "        (15, 18.5, 0.1),    # Zayıf\n",
    "        (18.5, 24.9, 0.4),  # Normal\n",
    "        (25, 29.9, 0.3),    # Kilolu\n",
    "        (30, 40, 0.15),     # Obez\n",
    "        (40, 50, 0.05)      # Morbid Obez\n",
    "    ]\n",
    "    \n",
    "    selected_range = random.choices(bmi_ranges, weights=[r[2] for r in bmi_ranges])[0]\n",
    "    bmi = round(random.uniform(selected_range[0], selected_range[1]), 2)\n",
    "    \n",
    "    # Kan şekeri: Normal, Pre-diyabet ve Diyabet aralıkları\n",
    "    if random.random() < 0.7:  # Normal\n",
    "        blood_sugar = random.randint(70, 99)\n",
    "    elif random.random() < 0.85:  # Pre-diyabet\n",
    "        blood_sugar = random.randint(100, 125)\n",
    "    else:  # Diyabet\n",
    "        blood_sugar = random.randint(126, 200)\n",
    "    \n",
    "    # Aile geçmişi: Diyabet varsa kan şekeri yüksek olma olasılığı artar\n",
    "    family_history = random.choice([\"Yes\", \"No\"])\n",
    "    if family_history == \"Yes\" and blood_sugar < 126:\n",
    "        if random.random() < 0.4:\n",
    "            blood_sugar = random.randint(100, 200)\n",
    "    \n",
    "    # Kan basıncı: Normal, Pre-hipertansiyon ve Hipertansiyon\n",
    "    if random.random() < 0.6:  # Normal\n",
    "        blood_pressure = random.randint(90, 120)\n",
    "    elif random.random() < 0.8:  # Pre-hipertansiyon\n",
    "        blood_pressure = random.randint(121, 140)\n",
    "    else:  # Hipertansiyon\n",
    "        blood_pressure = random.randint(141, 180)\n",
    "    \n",
    "    # Fiziksel aktivite: 0-5 saat/gün\n",
    "    physical_activity = round(random.uniform(0, 5), 2)\n",
    "    \n",
    "    # Kolesterol: Normal, Sınırda ve Yüksek\n",
    "    if random.random() < 0.6:  # Normal\n",
    "        cholesterol = random.randint(150, 200)\n",
    "    elif random.random() < 0.8:  # Sınırda\n",
    "        cholesterol = random.randint(201, 239)\n",
    "    else:  # Yüksek\n",
    "        cholesterol = random.randint(240, 350)\n",
    "    \n",
    "    # Sigara ve Alkol kullanımı\n",
    "    smoking = random.choice([\"Yes\", \"No\"])\n",
    "    alcohol = random.choice([\"Yes\", \"No\"])\n",
    "    \n",
    "    # Uyku süresi: Normal dağılım\n",
    "    sleep_duration = round(random.normalvariate(7, 1), 2)\n",
    "    sleep_duration = max(4, min(10, sleep_duration))  # 4-10 saat arası sınırlama\n",
    "    \n",
    "    # Egzersiz sıklığı: Haftalık 0-7 gün\n",
    "    exercise_frequency = random.randint(0, 7)\n",
    "    \n",
    "    # Stres seviyesi: 1-10 arası\n",
    "    stress_level = random.randint(1, 10)\n",
    "    \n",
    "    # Diyabet durumu: Risk faktörlerine göre belirleme\n",
    "    risk_score = 0\n",
    "    risk_score += (1 if age > 45 else 0)\n",
    "    risk_score += (1 if bmi > 25 else 0)\n",
    "    risk_score += (2 if blood_sugar > 125 else 1 if blood_sugar > 99 else 0)\n",
    "    risk_score += (1 if family_history == \"Yes\" else 0)\n",
    "    risk_score += (1 if blood_pressure > 140 else 0)\n",
    "    risk_score += (1 if physical_activity < 2 else 0)\n",
    "    risk_score += (1 if cholesterol > 240 else 0)\n",
    "    risk_score += (1 if smoking == \"Yes\" else 0)\n",
    "    risk_score += (1 if sleep_duration < 6 else 0)\n",
    "    risk_score += (1 if exercise_frequency < 3 else 0)\n",
    "    risk_score += (1 if stress_level > 7 else 0)\n",
    "    \n",
    "    diabetes_status = 1 if (risk_score >= 6 or blood_sugar > 125) else 0\n",
    "    \n",
    "    return {\n",
    "        \"Age\": age,\n",
    "        \"Gender\": gender,\n",
    "        \"BMI\": bmi,\n",
    "        \"Blood_Sugar_Level\": blood_sugar,\n",
    "        \"Family_History\": family_history,\n",
    "        \"Blood_Pressure\": blood_pressure,\n",
    "        \"Physical_Activity\": physical_activity,\n",
    "        \"Cholesterol_Level\": cholesterol,\n",
    "        \"Smoking\": smoking,\n",
    "        \"Alcohol_Consumption\": alcohol,\n",
    "        \"Sleep_Duration\": sleep_duration,\n",
    "        \"Exercise_Frequency\": exercise_frequency,\n",
    "        \"Stress_Level\": stress_level,\n",
    "        \"Diabetes_Status\": diabetes_status\n",
    "    }"
   ]
  },
  {
   "cell_type": "code",
   "execution_count": 3,
   "metadata": {},
   "outputs": [],
   "source": [
    "# 1000 satırlık veri setini oluşturma\n",
    "data_1000_extended = [generate_data_row_extended() for _ in range(1000)]\n",
    "df_1000_extended = pd.DataFrame(data_1000_extended)"
   ]
  },
  {
   "cell_type": "code",
   "execution_count": 4,
   "metadata": {},
   "outputs": [
    {
     "data": {
      "text/plain": [
       "'C:/Users/Monster/Desktop/222803014/veri.csv'"
      ]
     },
     "execution_count": 4,
     "metadata": {},
     "output_type": "execute_result"
    }
   ],
   "source": [
    "# Dosyayı kaydetme\n",
    "file_path_1000_extended = \"C:/Users/Monster/Desktop/222803014/veri.csv\"\n",
    "df_1000_extended.to_csv(file_path_1000_extended, index=False)\n",
    "\n",
    "\n",
    "file_path_1000_extended"
   ]
  }
 ],
 "metadata": {
  "kernelspec": {
   "display_name": "base",
   "language": "python",
   "name": "python3"
  },
  "language_info": {
   "codemirror_mode": {
    "name": "ipython",
    "version": 3
   },
   "file_extension": ".py",
   "mimetype": "text/x-python",
   "name": "python",
   "nbconvert_exporter": "python",
   "pygments_lexer": "ipython3",
   "version": "3.12.1"
  }
 },
 "nbformat": 4,
 "nbformat_minor": 2
}
